{
 "cells": [
  {
   "cell_type": "code",
   "execution_count": 1,
   "id": "02aa7024-1d21-48d0-901e-0101d932a13a",
   "metadata": {},
   "outputs": [
    {
     "name": "stdout",
     "output_type": "stream",
     "text": [
      "/home/jovyan/work/BaseUtils/\n"
     ]
    }
   ],
   "source": [
    "import os, sys\n",
    "\n",
    "path = os.path.dirname(os.getcwd()) + '/BaseUtils/'\n",
    "print(path)\n",
    "sys.path.append(os.path.abspath(path))"
   ]
  },
  {
   "cell_type": "code",
   "execution_count": 2,
   "id": "43255d42-32cb-49ee-8890-38d33bce1c72",
   "metadata": {},
   "outputs": [],
   "source": [
    "from pyspark.sql import functions as F\n",
    "import sys, os\n",
    "path = os.path.dirname(os.getcwd()) + '/BaseUtils/'\n",
    "sys.path.append(os.path.abspath(path))\n",
    "\n",
    "from TripAdvisorAPI import *"
   ]
  },
  {
   "cell_type": "code",
   "execution_count": 3,
   "id": "8cad0719-12d0-429f-9e26-57b14c4b9148",
   "metadata": {},
   "outputs": [],
   "source": [
    "api_key = '3e09d2d8e3mshd2e775be0966622p110f08jsn0a6f11d2eaa9'\n",
    "\n",
    "aeroAPI = TripAdvisorAPI(api_key)"
   ]
  },
  {
   "cell_type": "code",
   "execution_count": 4,
   "id": "e48b92b3-fabe-4f19-a5aa-3aae64e18f61",
   "metadata": {},
   "outputs": [
    {
     "name": "stdout",
     "output_type": "stream",
     "text": [
      "200\n",
      "{'status': True, 'message': 'Success', 'timestamp': 1724538246929, 'data': [{'lookbackServlet': None, 'autobroadened': 'false', 'title': 'Destinations', 'type': 'AIRPORT', 'document_id': None, 'url': '/Flights-g303631-Sao_Paulo_State_of_Sao_Paulo-Cheap_Discount_Airfares.html', 'children': [{'lookbackServlet': 'Airport', 'autobroadened': 'false', 'title': 'Destinations', 'type': 'AIRPORT', 'document_id': None, 'url': '/Flights?geo=10143221', 'scope': 'global', 'name': 'Sao Paulo, Brazil - Guarulhos International Airport (GRU)', 'data_type': 'FLIGHTS_TO', 'details': {'placetype': 10038, 'parent_name': 'Guarulhos Intl Airport', 'grandparent_name': 'Sao Paulo', 'grandparent_id': 303631, 'parent_id': 303631, 'grandparent_place_type': 10004, 'highlighted_name': 'Sao Paulo, Brazil - Guarulhos International Airport (GRU)', 'name': 'Sao Paulo, Brazil - Guarulhos International Airport (GRU)', 'parent_place_type': 10038, 'parent_ids': [10143221, 303631, 303598, 294280, 13, 1], 'geo_name': 'Sao Paulo'}, 'airportCode': 'GRU', 'shortName': 'Sao Paulo (GRU)', 'value': 10143221, 'coords': '-23.433332,-46.483334', 'isChild': True}, {'lookbackServlet': 'Airport', 'autobroadened': 'false', 'title': 'Destinations', 'type': 'AIRPORT', 'document_id': None, 'url': '/Flights?geo=10143222', 'scope': 'global', 'name': 'Sao Paulo, Brazil - Viracopos-Campinas (VCP)', 'data_type': 'FLIGHTS_TO', 'details': {'placetype': 10038, 'parent_name': 'Viracopos-Campinas Intl Airport', 'grandparent_name': 'Sao Paulo', 'grandparent_id': 303631, 'parent_id': 303631, 'grandparent_place_type': 10004, 'highlighted_name': 'Sao Paulo, Brazil - Viracopos-Campinas (VCP)', 'name': 'Sao Paulo, Brazil - Viracopos-Campinas (VCP)', 'parent_place_type': 10038, 'parent_ids': [10143222, 303631, 303598, 294280, 13, 1], 'geo_name': 'Sao Paulo'}, 'airportCode': 'VCP', 'shortName': 'Sao Paulo (VCP)', 'value': 10143222, 'coords': '-23.0,-47.133335', 'isChild': True}, {'lookbackServlet': 'Airport', 'autobroadened': 'false', 'title': 'Destinations', 'type': 'AIRPORT', 'document_id': None, 'url': '/Flights?geo=10143220', 'lastChild': True, 'scope': 'global', 'name': 'Sao Paulo, Brazil - Congonhas (CGH)', 'data_type': 'FLIGHTS_TO', 'details': {'placetype': 10038, 'parent_name': 'Congonhas Airport', 'grandparent_name': 'Sao Paulo', 'grandparent_id': 303631, 'parent_id': 303631, 'grandparent_place_type': 10004, 'highlighted_name': 'Sao Paulo, Brazil - Congonhas (CGH)', 'name': 'Sao Paulo, Brazil - Congonhas (CGH)', 'parent_place_type': 10038, 'parent_ids': [10143220, 303631, 303598, 294280, 13, 1], 'geo_name': 'Sao Paulo'}, 'airportCode': 'CGH', 'shortName': 'Sao Paulo (CGH)', 'value': 10143220, 'coords': '-23.625,-46.66', 'isChild': True}], 'scope': 'global', 'name': 'Sao Paulo, Brazil - All Airports (SAO)', 'data_type': 'FLIGHTS_TO', 'details': {'placetype': 10004, 'parent_name': 'Brazil', 'grandparent_name': 'South America', 'grandparent_id': 13, 'parent_id': 294280, 'grandparent_place_type': 10000, 'rac_enabled': False, 'highlighted_name': 'Sao Paulo, Brazil - All Airports (SAO)', 'name': 'Sao Paulo, Brazil - All Airports (SAO)', 'parent_place_type': 10001, 'parent_ids': [303598, 294280, 13, 1], 'geo_name': 'State of Sao Paulo'}, 'airportCode': 'SAO', 'shortName': 'Sao Paulo (SAO)', 'value': 303631, 'coords': '-23.550455,-46.637535'}, {'lookbackServlet': 'Airport', 'autobroadened': 'false', 'title': 'Destinations', 'type': 'AIRPORT', 'document_id': None, 'url': '/Flights?geo=10144053', 'scope': 'global', 'name': 'Aracatuba, Brazil - Aracatuba (ARU)', 'data_type': 'FLIGHTS_TO', 'details': {'placetype': 10038, 'parent_name': 'Aracatuba', 'grandparent_name': 'Brazil', 'grandparent_id': 294280, 'parent_id': 677484, 'grandparent_place_type': 10001, 'highlighted_name': 'Aracatuba, Brazil - Aracatuba (ARU)', 'name': 'Aracatuba, Brazil - Aracatuba (ARU)', 'parent_place_type': 10004, 'parent_ids': [677484, 303598, 294280, 13, 1], 'geo_name': 'Aracatuba'}, 'airportCode': 'ARU', 'shortName': 'Aracatuba (ARU)', 'value': 10144053, 'coords': '-21.143612,-50.42611'}, {'lookbackServlet': 'Airport', 'autobroadened': 'false', 'title': 'Destinations', 'type': 'AIRPORT', 'document_id': None, 'url': '/Flights?geo=10145094', 'scope': 'global', 'name': 'Arealva, Brazil - Moussa Nakhi Tobias State Airport (JTC)', 'data_type': 'FLIGHTS_TO', 'details': {'placetype': 10038, 'parent_name': 'Arealva', 'grandparent_name': 'Brazil', 'grandparent_id': 294280, 'parent_id': 5482569, 'grandparent_place_type': 10001, 'highlighted_name': 'Arealva, Brazil - Moussa Nakhi Tobias State Airport (JTC)', 'name': 'Arealva, Brazil - Moussa Nakhi Tobias State Airport (JTC)', 'parent_place_type': 10004, 'parent_ids': [5482569, 303598, 294280, 13, 1], 'geo_name': 'Arealva'}, 'airportCode': 'JTC', 'shortName': 'Arealva (JTC)', 'value': 10145094, 'coords': '-22.157778,-49.068333'}]}\n"
     ]
    }
   ],
   "source": [
    "airport_query = 'São Paulo'\n",
    "\n",
    "response = aeroAPI.get_airports_by_location(airport_query)"
   ]
  },
  {
   "cell_type": "code",
   "execution_count": null,
   "id": "22759f57-14e7-48e5-b095-0200088382a2",
   "metadata": {},
   "outputs": [],
   "source": []
  }
 ],
 "metadata": {
  "kernelspec": {
   "display_name": "Python 3 (ipykernel)",
   "language": "python",
   "name": "python3"
  },
  "language_info": {
   "codemirror_mode": {
    "name": "ipython",
    "version": 3
   },
   "file_extension": ".py",
   "mimetype": "text/x-python",
   "name": "python",
   "nbconvert_exporter": "python",
   "pygments_lexer": "ipython3",
   "version": "3.11.6"
  }
 },
 "nbformat": 4,
 "nbformat_minor": 5
}
