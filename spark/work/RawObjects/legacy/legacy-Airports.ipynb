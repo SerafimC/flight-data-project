{
 "cells": [
  {
   "cell_type": "markdown",
   "id": "23955ab3-08e0-40d1-be3e-6032befc980e",
   "metadata": {},
   "source": [
    "### Import Libraries"
   ]
  },
  {
   "cell_type": "code",
   "execution_count": 2,
   "id": "e3247064-25b5-402f-a20e-376981ca1cc2",
   "metadata": {},
   "outputs": [],
   "source": [
    "from pyspark.sql import functions as F\n",
    "import sys, os\n",
    "path = os.path.dirname(os.getcwd()) + '/BaseUtils/'\n",
    "sys.path.append(os.path.abspath(path))\n",
    "\n",
    "from TripAdvisorAPI import *\n",
    "from Config import *"
   ]
  },
  {
   "cell_type": "markdown",
   "id": "aac5005f-2c5d-4978-a5f2-a459c6247852",
   "metadata": {},
   "source": [
    "### Search Airport"
   ]
  },
  {
   "cell_type": "code",
   "execution_count": 3,
   "id": "1275889d-be64-4344-b3a9-ed5e83e310d4",
   "metadata": {},
   "outputs": [],
   "source": [
    "api_key = Config['tripadvisor_api_key']\n",
    "\n",
    "tripadvisorAPI = TripAdvisorAPI(api_key)"
   ]
  },
  {
   "cell_type": "code",
   "execution_count": 8,
   "id": "9ff907ad-7317-4b6a-a6c0-a1369bc4eb61",
   "metadata": {},
   "outputs": [
    {
     "name": "stdin",
     "output_type": "stream",
     "text": [
      "Insert location to search airports:  São Paulo\n"
     ]
    }
   ],
   "source": [
    "airport_query = input(\"Insert location to search airports: \")\n",
    "\n",
    "airports = tripadvisorAPI.get_airports_by_location(airport_query)"
   ]
  },
  {
   "cell_type": "code",
   "execution_count": null,
   "id": "c4b4b220-618e-433e-9b79-6cd2bf1185b2",
   "metadata": {},
   "outputs": [],
   "source": [
    "print(type(airports))\n",
    "# print(airports)"
   ]
  },
  {
   "cell_type": "code",
   "execution_count": null,
   "id": "0d1b7819-3e7e-4c4c-81ac-3ac55fa15e31",
   "metadata": {},
   "outputs": [],
   "source": [
    "print(airports['data'][0]['children'])"
   ]
  },
  {
   "cell_type": "code",
   "execution_count": 13,
   "id": "c98802e0-a048-4e4b-a4e5-10abd8a71389",
   "metadata": {},
   "outputs": [],
   "source": [
    "from pyspark import SparkConf, SparkContext\n",
    "\n",
    "# Initialize SparkConf and SparkContext\n",
    "conf = SparkConf().setAppName(\"WriteToHDFS\")\n",
    "sc = SparkContext(conf=conf)\n",
    "\n",
    "# Create an RDD\n",
    "data = airports['data']\n",
    "rdd = sc.parallelize(data)\n",
    "\n",
    "# Specify the HDFS path\n",
    "hdfs_path = \"hdfs://namenode:9000/user/jovyan/tripadvisor_airports\"\n",
    "\n",
    "# Save the RDD to HDFS\n",
    "rdd.saveAsTextFile(hdfs_path)\n",
    "\n",
    "# Stop SparkContext\n",
    "sc.stop()\n"
   ]
  },
  {
   "cell_type": "markdown",
   "id": "e050b941-e752-4201-ba65-b35d31b60465",
   "metadata": {},
   "source": [
    "### Set and Stop SPARK"
   ]
  },
  {
   "cell_type": "code",
   "execution_count": 1,
   "id": "328647fd-d45e-4689-beb0-98ea2a124268",
   "metadata": {},
   "outputs": [
    {
     "name": "stdout",
     "output_type": "stream",
     "text": [
      "Spark version: 3.5.0\n"
     ]
    }
   ],
   "source": [
    "# from pyspark.sql import SparkSession\n",
    "\n",
    "# spark = SparkSession.builder \\\n",
    "#     .appName(\"LocalSpark\") \\\n",
    "#     .master(\"spark://spark-master:7077\") \\\n",
    "#     .getOrCreate()\n",
    "\n",
    "# print(\"Spark version:\", spark.version)"
   ]
  },
  {
   "cell_type": "code",
   "execution_count": 12,
   "id": "8c45673c-e355-4cbf-ba53-c8520dab61f5",
   "metadata": {},
   "outputs": [],
   "source": [
    "# spark.stop()"
   ]
  },
  {
   "cell_type": "code",
   "execution_count": null,
   "id": "7fded764-aa8d-4a99-a1ed-9ea13908e97f",
   "metadata": {},
   "outputs": [],
   "source": []
  }
 ],
 "metadata": {
  "kernelspec": {
   "display_name": "Python 3 (ipykernel)",
   "language": "python",
   "name": "python3"
  },
  "language_info": {
   "codemirror_mode": {
    "name": "ipython",
    "version": 3
   },
   "file_extension": ".py",
   "mimetype": "text/x-python",
   "name": "python",
   "nbconvert_exporter": "python",
   "pygments_lexer": "ipython3",
   "version": "3.11.6"
  }
 },
 "nbformat": 4,
 "nbformat_minor": 5
}
