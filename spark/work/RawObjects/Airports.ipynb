{
 "cells": [
  {
   "cell_type": "markdown",
   "id": "2e239dfe-7e87-4529-aa1c-bf6e25b7dcd5",
   "metadata": {},
   "source": [
    "### Import libraries"
   ]
  },
  {
   "cell_type": "code",
   "execution_count": 1,
   "id": "c0217ef8-b465-4b9d-bae0-30d817c22361",
   "metadata": {},
   "outputs": [],
   "source": [
    "from pyspark.sql import functions as F\n",
    "import sys, os\n",
    "path = os.path.dirname(os.getcwd()) + '/BaseUtils/'\n",
    "sys.path.append(os.path.abspath(path))\n",
    "\n",
    "from hdfs_io import *\n",
    "\n",
    "hdfs_obj = HDFS_IO()"
   ]
  },
  {
   "cell_type": "code",
   "execution_count": 2,
   "id": "ead9609f-183e-4cfe-a5c7-8618797cc448",
   "metadata": {},
   "outputs": [],
   "source": [
    "# Instanciate FLightRadarAPI\n",
    "\n",
    "from FlightRadar24 import FlightRadar24API\n",
    "fr_api = FlightRadar24API()"
   ]
  },
  {
   "cell_type": "markdown",
   "id": "0e4c2bc3-4560-49ce-b85d-32059fe28ee7",
   "metadata": {},
   "source": [
    "### Get Airports"
   ]
  },
  {
   "cell_type": "code",
   "execution_count": 3,
   "id": "52049338-5038-46fa-bb5b-084b810bb107",
   "metadata": {},
   "outputs": [],
   "source": [
    "airports = fr_api.get_airports()"
   ]
  },
  {
   "cell_type": "code",
   "execution_count": 4,
   "id": "f0559a71-8889-470e-afb4-e1fa014ca232",
   "metadata": {},
   "outputs": [
    {
     "name": "stdout",
     "output_type": "stream",
     "text": [
      "['_Airport__get_info', '_Airport__initialize_with_basic_info', '_Airport__initialize_with_info', '__abstractmethods__', '__class__', '__delattr__', '__dict__', '__dir__', '__doc__', '__eq__', '__format__', '__ge__', '__getattribute__', '__getstate__', '__gt__', '__hash__', '__init__', '__init_subclass__', '__le__', '__lt__', '__module__', '__ne__', '__new__', '__reduce__', '__reduce_ex__', '__repr__', '__setattr__', '__sizeof__', '__slots__', '__str__', '__subclasshook__', '__weakref__', '_abc_impl', '_default_text', 'altitude', 'country', 'get_distance_from', 'iata', 'icao', 'latitude', 'longitude', 'name', 'set_airport_details']\n"
     ]
    }
   ],
   "source": [
    "print(dir(airports[0]))"
   ]
  },
  {
   "cell_type": "code",
   "execution_count": 5,
   "id": "75f8361d-e7b7-4956-bdc6-7c3b53432bc0",
   "metadata": {},
   "outputs": [],
   "source": [
    "airports_tuples = [{\n",
    "    'iata': obj.iata,\n",
    "    'icao': obj.icao,\n",
    "    'name': obj.name,\n",
    "    'altitude': float(obj.altitude) if obj.altitude is not None else None,\n",
    "    'latitude': float(obj.latitude) if obj.latitude is not None else None,\n",
    "    'longitude': float(obj.longitude) if obj.longitude is not None else None,\n",
    "    'country': obj.country\n",
    "                   } for obj in airports]"
   ]
  },
  {
   "cell_type": "markdown",
   "id": "90130599-d885-4122-899f-29ce67ecf8a3",
   "metadata": {},
   "source": [
    "### Start Spark"
   ]
  },
  {
   "cell_type": "code",
   "execution_count": 6,
   "id": "d91bf226-713a-4d34-8aeb-cbcbe5c3be69",
   "metadata": {},
   "outputs": [
    {
     "name": "stdout",
     "output_type": "stream",
     "text": [
      "Spark version: 3.5.0\n"
     ]
    }
   ],
   "source": [
    "from pyspark.sql import SparkSession\n",
    "from pyspark.sql import types as T\n",
    "\n",
    "spark = SparkSession.builder \\\n",
    "    .appName(\"LocalSpark\") \\\n",
    "    .master(\"spark://spark-master:7077\") \\\n",
    "    .getOrCreate()\n",
    "\n",
    "print(\"Spark version:\", spark.version)"
   ]
  },
  {
   "cell_type": "markdown",
   "id": "a59c8c05-1261-4c9b-ad00-379de1c188bd",
   "metadata": {},
   "source": [
    "#### Create airports dataframe"
   ]
  },
  {
   "cell_type": "code",
   "execution_count": 7,
   "id": "1063fecc-32cf-411a-a481-ad8aa3b88b69",
   "metadata": {},
   "outputs": [],
   "source": [
    "# Define the schema explicitly\n",
    "airports_schema = T.StructType([\n",
    "    T.StructField(\"iata\", T.StringType(), True),\n",
    "    T.StructField(\"icao\", T.StringType(), True),\n",
    "    T.StructField(\"name\", T.StringType(), True),\n",
    "    T.StructField(\"altitude\", T.DoubleType(), True),   # Explicitly defining as DoubleType\n",
    "    T.StructField(\"latitude\", T.DoubleType(), True),   # Explicitly defining as DoubleType\n",
    "    T.StructField(\"longitude\", T.DoubleType(), True),  # Explicitly defining as DoubleType\n",
    "    T.StructField(\"country\", T.StringType(), True)\n",
    "])"
   ]
  },
  {
   "cell_type": "code",
   "execution_count": 8,
   "id": "7257b468-c834-4984-8f7b-08344819c0f2",
   "metadata": {},
   "outputs": [],
   "source": [
    "airports_df = spark.createDataFrame(airports_tuples, airports_schema)"
   ]
  },
  {
   "cell_type": "code",
   "execution_count": 9,
   "id": "f01dfaad-ff3a-40af-9d45-917103a78308",
   "metadata": {},
   "outputs": [
    {
     "name": "stdout",
     "output_type": "stream",
     "text": [
      "+----+----+--------------------+--------+---------+-----------+--------------------+\n",
      "|iata|icao|                name|altitude| latitude|  longitude|             country|\n",
      "+----+----+--------------------+--------+---------+-----------+--------------------+\n",
      "| LCG|LECO|    A Coruna Airport|   326.0|43.302059|   -8.37725|               Spain|\n",
      "| AAH|EDKA|Aachen Merzbruck ...|   626.0|50.821899|   6.184759|             Germany|\n",
      "| AAL|EKYT|     Aalborg Airport|     3.0|57.095112|   9.855172|             Denmark|\n",
      "| AAR|EKAH|      Aarhus Airport|    71.0|56.303295|  10.619129|             Denmark|\n",
      "| QEA|EKAC|  Aarhus Sea Airport|     1.0|56.151993|  10.247725|             Denmark|\n",
      "| JEG|BGAA|     Aasiaat Airport|    74.0| 68.72184| -52.784698|           Greenland|\n",
      "| ABD|OIAA|      Abadan Airport|    19.0|30.371111|  48.228329|                Iran|\n",
      "| ABA|UNAA|Abakan Internatio...|   831.0|53.740002|  91.385002|              Russia|\n",
      "| YXX|CYXX|Abbotsford Intern...|   195.0|49.025269|-122.360001|              Canada|\n",
      "| AEA|NGTB|     Abemama Airport|     8.0| 0.490833| 173.828598|            Kiribati|\n",
      "| ABZ|EGPD|Aberdeen Internat...|   215.0|57.201939|   -2.19777|      United Kingdom|\n",
      "| ABR|KABR|Aberdeen Regional...|  1302.0|45.439999| -98.419998|       United States|\n",
      "| AHB|OEAB|Abha Regional Air...|  6858.0| 18.24036|   42.65662|        Saudi Arabia|\n",
      "| ABJ|DIAP|Abidjan Port Boue...|    21.0| 5.261386|   -3.92629|         Ivory Coast|\n",
      "| ABI|KABI|Abilene Regional ...|  1790.0|32.411301| -99.681801|       United States|\n",
      "| VJI|KVJI|Abingdon Virginia...|  2088.0|36.686111| -82.033333|       United States|\n",
      "| AZI|OMAD|Abu Dhabi Al Bate...|    16.0|24.428329|   54.45808|United Arab Emirates|\n",
      "| DHF|OMAM|Abu Dhabi Al Dhaf...|    77.0|24.248199|  54.547699|United Arab Emirates|\n",
      "| AUH|OMAA|Abu Dhabi Zayed I...|    62.0|24.442856|  54.651474|United Arab Emirates|\n",
      "| AEU|OIBA|Abu Musa Island A...|    23.0|  25.8757|  55.033001|                Iran|\n",
      "+----+----+--------------------+--------+---------+-----------+--------------------+\n",
      "only showing top 20 rows\n",
      "\n"
     ]
    }
   ],
   "source": [
    "airports_df.show()"
   ]
  },
  {
   "cell_type": "markdown",
   "id": "8a75717e-2ea1-4d07-ab54-53c3d89f5b3e",
   "metadata": {},
   "source": [
    "#### Store to HDFS"
   ]
  },
  {
   "cell_type": "code",
   "execution_count": 10,
   "id": "60ba285e-84b0-4357-a664-19da33b59008",
   "metadata": {},
   "outputs": [
    {
     "name": "stdout",
     "output_type": "stream",
     "text": [
      "hdfs://namenode:9000/user/jovyan/FlightRadarApi/airports\n"
     ]
    }
   ],
   "source": [
    "destination_path = hdfs_obj.base_url + hdfs_obj.user_path + 'FlightRadarApi/airports'\n",
    "print(destination_path)"
   ]
  },
  {
   "cell_type": "code",
   "execution_count": 11,
   "id": "3b0e3fb1-1d37-41d4-b9f0-5a12182fb365",
   "metadata": {},
   "outputs": [
    {
     "name": "stderr",
     "output_type": "stream",
     "text": [
      "----------------------------------------\n",
      "Exception occurred during processing of request from ('127.0.0.1', 55068)\n",
      "ERROR:root:Exception while sending command.\n",
      "Traceback (most recent call last):\n",
      "  File \"/opt/spark/python/lib/py4j-0.10.9.7-src.zip/py4j/clientserver.py\", line 516, in send_command\n",
      "    raise Py4JNetworkError(\"Answer from Java side is empty\")\n",
      "py4j.protocol.Py4JNetworkError: Answer from Java side is empty\n",
      "\n",
      "During handling of the above exception, another exception occurred:\n",
      "\n",
      "Traceback (most recent call last):\n",
      "  File \"/opt/spark/python/lib/py4j-0.10.9.7-src.zip/py4j/java_gateway.py\", line 1038, in send_command\n",
      "    response = connection.send_command(command)\n",
      "               ^^^^^^^^^^^^^^^^^^^^^^^^^^^^^^^^\n",
      "  File \"/opt/spark/python/lib/py4j-0.10.9.7-src.zip/py4j/clientserver.py\", line 539, in send_command\n",
      "    raise Py4JNetworkError(\n",
      "py4j.protocol.Py4JNetworkError: Error while sending or receiving\n",
      "Traceback (most recent call last):\n",
      "  File \"/opt/conda/lib/python3.11/socketserver.py\", line 317, in _handle_request_noblock\n",
      "    self.process_request(request, client_address)\n",
      "  File \"/opt/conda/lib/python3.11/socketserver.py\", line 348, in process_request\n",
      "    self.finish_request(request, client_address)\n",
      "  File \"/opt/conda/lib/python3.11/socketserver.py\", line 361, in finish_request\n",
      "    self.RequestHandlerClass(request, client_address, self)\n",
      "  File \"/opt/conda/lib/python3.11/socketserver.py\", line 755, in __init__\n",
      "    self.handle()\n",
      "  File \"/opt/spark/python/pyspark/accumulators.py\", line 295, in handle\n",
      "    poll(accum_updates)\n",
      "  File \"/opt/spark/python/pyspark/accumulators.py\", line 267, in poll\n",
      "    if self.rfile in r and func():\n",
      "                           ^^^^^^\n",
      "  File \"/opt/spark/python/pyspark/accumulators.py\", line 271, in accum_updates\n",
      "    num_updates = read_int(self.rfile)\n",
      "                  ^^^^^^^^^^^^^^^^^^^^\n",
      "  File \"/opt/spark/python/pyspark/serializers.py\", line 596, in read_int\n",
      "    raise EOFError\n",
      "EOFError\n",
      "----------------------------------------\n",
      "ERROR:root:Exception while sending command.\n",
      "Traceback (most recent call last):\n",
      "  File \"/opt/spark/python/lib/py4j-0.10.9.7-src.zip/py4j/clientserver.py\", line 516, in send_command\n",
      "    raise Py4JNetworkError(\"Answer from Java side is empty\")\n",
      "py4j.protocol.Py4JNetworkError: Answer from Java side is empty\n",
      "\n",
      "During handling of the above exception, another exception occurred:\n",
      "\n",
      "Traceback (most recent call last):\n",
      "  File \"/opt/spark/python/lib/py4j-0.10.9.7-src.zip/py4j/java_gateway.py\", line 1038, in send_command\n",
      "    response = connection.send_command(command)\n",
      "               ^^^^^^^^^^^^^^^^^^^^^^^^^^^^^^^^\n",
      "  File \"/opt/spark/python/lib/py4j-0.10.9.7-src.zip/py4j/clientserver.py\", line 539, in send_command\n",
      "    raise Py4JNetworkError(\n",
      "py4j.protocol.Py4JNetworkError: Error while sending or receiving\n"
     ]
    },
    {
     "ename": "Py4JError",
     "evalue": "An error occurred while calling o39.count",
     "output_type": "error",
     "traceback": [
      "\u001b[0;31m---------------------------------------------------------------------------\u001b[0m",
      "\u001b[0;31mPy4JError\u001b[0m                                 Traceback (most recent call last)",
      "Cell \u001b[0;32mIn[11], line 1\u001b[0m\n\u001b[0;32m----> 1\u001b[0m \u001b[43mairports_df\u001b[49m\u001b[38;5;241;43m.\u001b[39;49m\u001b[43mcount\u001b[49m\u001b[43m(\u001b[49m\u001b[43m)\u001b[49m\n",
      "File \u001b[0;32m/opt/spark/python/pyspark/sql/dataframe.py:1234\u001b[0m, in \u001b[0;36mDataFrame.count\u001b[0;34m(self)\u001b[0m\n\u001b[1;32m   1211\u001b[0m \u001b[38;5;28;01mdef\u001b[39;00m \u001b[38;5;21mcount\u001b[39m(\u001b[38;5;28mself\u001b[39m) \u001b[38;5;241m-\u001b[39m\u001b[38;5;241m>\u001b[39m \u001b[38;5;28mint\u001b[39m:\n\u001b[1;32m   1212\u001b[0m \u001b[38;5;250m    \u001b[39m\u001b[38;5;124;03m\"\"\"Returns the number of rows in this :class:`DataFrame`.\u001b[39;00m\n\u001b[1;32m   1213\u001b[0m \n\u001b[1;32m   1214\u001b[0m \u001b[38;5;124;03m    .. versionadded:: 1.3.0\u001b[39;00m\n\u001b[0;32m   (...)\u001b[0m\n\u001b[1;32m   1232\u001b[0m \u001b[38;5;124;03m    3\u001b[39;00m\n\u001b[1;32m   1233\u001b[0m \u001b[38;5;124;03m    \"\"\"\u001b[39;00m\n\u001b[0;32m-> 1234\u001b[0m     \u001b[38;5;28;01mreturn\u001b[39;00m \u001b[38;5;28mint\u001b[39m(\u001b[38;5;28;43mself\u001b[39;49m\u001b[38;5;241;43m.\u001b[39;49m\u001b[43m_jdf\u001b[49m\u001b[38;5;241;43m.\u001b[39;49m\u001b[43mcount\u001b[49m\u001b[43m(\u001b[49m\u001b[43m)\u001b[49m)\n",
      "File \u001b[0;32m/opt/spark/python/lib/py4j-0.10.9.7-src.zip/py4j/java_gateway.py:1322\u001b[0m, in \u001b[0;36mJavaMember.__call__\u001b[0;34m(self, *args)\u001b[0m\n\u001b[1;32m   1316\u001b[0m command \u001b[38;5;241m=\u001b[39m proto\u001b[38;5;241m.\u001b[39mCALL_COMMAND_NAME \u001b[38;5;241m+\u001b[39m\\\n\u001b[1;32m   1317\u001b[0m     \u001b[38;5;28mself\u001b[39m\u001b[38;5;241m.\u001b[39mcommand_header \u001b[38;5;241m+\u001b[39m\\\n\u001b[1;32m   1318\u001b[0m     args_command \u001b[38;5;241m+\u001b[39m\\\n\u001b[1;32m   1319\u001b[0m     proto\u001b[38;5;241m.\u001b[39mEND_COMMAND_PART\n\u001b[1;32m   1321\u001b[0m answer \u001b[38;5;241m=\u001b[39m \u001b[38;5;28mself\u001b[39m\u001b[38;5;241m.\u001b[39mgateway_client\u001b[38;5;241m.\u001b[39msend_command(command)\n\u001b[0;32m-> 1322\u001b[0m return_value \u001b[38;5;241m=\u001b[39m \u001b[43mget_return_value\u001b[49m\u001b[43m(\u001b[49m\n\u001b[1;32m   1323\u001b[0m \u001b[43m    \u001b[49m\u001b[43manswer\u001b[49m\u001b[43m,\u001b[49m\u001b[43m \u001b[49m\u001b[38;5;28;43mself\u001b[39;49m\u001b[38;5;241;43m.\u001b[39;49m\u001b[43mgateway_client\u001b[49m\u001b[43m,\u001b[49m\u001b[43m \u001b[49m\u001b[38;5;28;43mself\u001b[39;49m\u001b[38;5;241;43m.\u001b[39;49m\u001b[43mtarget_id\u001b[49m\u001b[43m,\u001b[49m\u001b[43m \u001b[49m\u001b[38;5;28;43mself\u001b[39;49m\u001b[38;5;241;43m.\u001b[39;49m\u001b[43mname\u001b[49m\u001b[43m)\u001b[49m\n\u001b[1;32m   1325\u001b[0m \u001b[38;5;28;01mfor\u001b[39;00m temp_arg \u001b[38;5;129;01min\u001b[39;00m temp_args:\n\u001b[1;32m   1326\u001b[0m     \u001b[38;5;28;01mif\u001b[39;00m \u001b[38;5;28mhasattr\u001b[39m(temp_arg, \u001b[38;5;124m\"\u001b[39m\u001b[38;5;124m_detach\u001b[39m\u001b[38;5;124m\"\u001b[39m):\n",
      "File \u001b[0;32m/opt/spark/python/pyspark/errors/exceptions/captured.py:179\u001b[0m, in \u001b[0;36mcapture_sql_exception.<locals>.deco\u001b[0;34m(*a, **kw)\u001b[0m\n\u001b[1;32m    177\u001b[0m \u001b[38;5;28;01mdef\u001b[39;00m \u001b[38;5;21mdeco\u001b[39m(\u001b[38;5;241m*\u001b[39ma: Any, \u001b[38;5;241m*\u001b[39m\u001b[38;5;241m*\u001b[39mkw: Any) \u001b[38;5;241m-\u001b[39m\u001b[38;5;241m>\u001b[39m Any:\n\u001b[1;32m    178\u001b[0m     \u001b[38;5;28;01mtry\u001b[39;00m:\n\u001b[0;32m--> 179\u001b[0m         \u001b[38;5;28;01mreturn\u001b[39;00m \u001b[43mf\u001b[49m\u001b[43m(\u001b[49m\u001b[38;5;241;43m*\u001b[39;49m\u001b[43ma\u001b[49m\u001b[43m,\u001b[49m\u001b[43m \u001b[49m\u001b[38;5;241;43m*\u001b[39;49m\u001b[38;5;241;43m*\u001b[39;49m\u001b[43mkw\u001b[49m\u001b[43m)\u001b[49m\n\u001b[1;32m    180\u001b[0m     \u001b[38;5;28;01mexcept\u001b[39;00m Py4JJavaError \u001b[38;5;28;01mas\u001b[39;00m e:\n\u001b[1;32m    181\u001b[0m         converted \u001b[38;5;241m=\u001b[39m convert_exception(e\u001b[38;5;241m.\u001b[39mjava_exception)\n",
      "File \u001b[0;32m/opt/spark/python/lib/py4j-0.10.9.7-src.zip/py4j/protocol.py:334\u001b[0m, in \u001b[0;36mget_return_value\u001b[0;34m(answer, gateway_client, target_id, name)\u001b[0m\n\u001b[1;32m    330\u001b[0m             \u001b[38;5;28;01mraise\u001b[39;00m Py4JError(\n\u001b[1;32m    331\u001b[0m                 \u001b[38;5;124m\"\u001b[39m\u001b[38;5;124mAn error occurred while calling \u001b[39m\u001b[38;5;132;01m{0}\u001b[39;00m\u001b[38;5;132;01m{1}\u001b[39;00m\u001b[38;5;132;01m{2}\u001b[39;00m\u001b[38;5;124m. Trace:\u001b[39m\u001b[38;5;130;01m\\n\u001b[39;00m\u001b[38;5;132;01m{3}\u001b[39;00m\u001b[38;5;130;01m\\n\u001b[39;00m\u001b[38;5;124m\"\u001b[39m\u001b[38;5;241m.\u001b[39m\n\u001b[1;32m    332\u001b[0m                 \u001b[38;5;28mformat\u001b[39m(target_id, \u001b[38;5;124m\"\u001b[39m\u001b[38;5;124m.\u001b[39m\u001b[38;5;124m\"\u001b[39m, name, value))\n\u001b[1;32m    333\u001b[0m     \u001b[38;5;28;01melse\u001b[39;00m:\n\u001b[0;32m--> 334\u001b[0m         \u001b[38;5;28;01mraise\u001b[39;00m Py4JError(\n\u001b[1;32m    335\u001b[0m             \u001b[38;5;124m\"\u001b[39m\u001b[38;5;124mAn error occurred while calling \u001b[39m\u001b[38;5;132;01m{0}\u001b[39;00m\u001b[38;5;132;01m{1}\u001b[39;00m\u001b[38;5;132;01m{2}\u001b[39;00m\u001b[38;5;124m\"\u001b[39m\u001b[38;5;241m.\u001b[39m\n\u001b[1;32m    336\u001b[0m             \u001b[38;5;28mformat\u001b[39m(target_id, \u001b[38;5;124m\"\u001b[39m\u001b[38;5;124m.\u001b[39m\u001b[38;5;124m\"\u001b[39m, name))\n\u001b[1;32m    337\u001b[0m \u001b[38;5;28;01melse\u001b[39;00m:\n\u001b[1;32m    338\u001b[0m     \u001b[38;5;28mtype\u001b[39m \u001b[38;5;241m=\u001b[39m answer[\u001b[38;5;241m1\u001b[39m]\n",
      "\u001b[0;31mPy4JError\u001b[0m: An error occurred while calling o39.count"
     ]
    }
   ],
   "source": [
    "airports_df.count()"
   ]
  },
  {
   "cell_type": "code",
   "execution_count": null,
   "id": "95649370-8052-47a2-8100-f500eb921b71",
   "metadata": {},
   "outputs": [],
   "source": [
    "airports_df.write.parquet(destination_path, mode='overwrite')"
   ]
  },
  {
   "cell_type": "code",
   "execution_count": null,
   "id": "1efbf149-7c67-4b9f-bde0-c4cae2b6d1e6",
   "metadata": {},
   "outputs": [],
   "source": [
    "spark.stop()"
   ]
  },
  {
   "cell_type": "code",
   "execution_count": null,
   "id": "6cf713b6-926c-4eed-8021-a927895f3c4e",
   "metadata": {},
   "outputs": [],
   "source": []
  }
 ],
 "metadata": {
  "kernelspec": {
   "display_name": "Python 3 (ipykernel)",
   "language": "python",
   "name": "python3"
  },
  "language_info": {
   "codemirror_mode": {
    "name": "ipython",
    "version": 3
   },
   "file_extension": ".py",
   "mimetype": "text/x-python",
   "name": "python",
   "nbconvert_exporter": "python",
   "pygments_lexer": "ipython3",
   "version": "3.11.6"
  }
 },
 "nbformat": 4,
 "nbformat_minor": 5
}
