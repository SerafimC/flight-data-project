{
 "cells": [
  {
   "cell_type": "markdown",
   "id": "b1ea2ce5-93a6-497b-8fec-a9d173d20c65",
   "metadata": {},
   "source": [
    "### Set SPARK"
   ]
  },
  {
   "cell_type": "code",
   "execution_count": 1,
   "id": "328647fd-d45e-4689-beb0-98ea2a124268",
   "metadata": {},
   "outputs": [
    {
     "name": "stdout",
     "output_type": "stream",
     "text": [
      "Spark version: 3.5.0\n"
     ]
    }
   ],
   "source": [
    "from pyspark.sql import SparkSession\n",
    "\n",
    "spark = SparkSession.builder \\\n",
    "    .appName(\"LocalSpark\") \\\n",
    "    .master(\"spark://spark-master:7077\") \\\n",
    "    .getOrCreate()\n",
    "\n",
    "print(\"Spark version:\", spark.version)"
   ]
  },
  {
   "cell_type": "markdown",
   "id": "23955ab3-08e0-40d1-be3e-6032befc980e",
   "metadata": {},
   "source": [
    "### Import Libraries"
   ]
  },
  {
   "cell_type": "code",
   "execution_count": 2,
   "id": "e3247064-25b5-402f-a20e-376981ca1cc2",
   "metadata": {},
   "outputs": [],
   "source": [
    "from pyspark.sql import functions as F\n",
    "import sys, os\n",
    "path = os.path.dirname(os.getcwd()) + '/BaseUtils/'\n",
    "sys.path.append(os.path.abspath(path))\n",
    "\n",
    "from TripAdvisorAPI import *\n",
    "from Config import *"
   ]
  },
  {
   "cell_type": "markdown",
   "id": "aac5005f-2c5d-4978-a5f2-a459c6247852",
   "metadata": {},
   "source": [
    "### Search Airport"
   ]
  },
  {
   "cell_type": "code",
   "execution_count": 3,
   "id": "1275889d-be64-4344-b3a9-ed5e83e310d4",
   "metadata": {},
   "outputs": [],
   "source": [
    "api_key = Config['tripadvisor_api_key']\n",
    "\n",
    "tripadvisorAPI = TripAdvisorAPI(api_key)"
   ]
  },
  {
   "cell_type": "code",
   "execution_count": 4,
   "id": "9ff907ad-7317-4b6a-a6c0-a1369bc4eb61",
   "metadata": {},
   "outputs": [
    {
     "name": "stdin",
     "output_type": "stream",
     "text": [
      "Insert location to search airports:  São Paulo\n"
     ]
    }
   ],
   "source": [
    "airport_query = input(\"Insert location to search airports: \")\n",
    "\n",
    "airports = tripadvisorAPI.get_airports_by_location(airport_query)"
   ]
  },
  {
   "cell_type": "code",
   "execution_count": 5,
   "id": "c4b4b220-618e-433e-9b79-6cd2bf1185b2",
   "metadata": {},
   "outputs": [
    {
     "name": "stdout",
     "output_type": "stream",
     "text": [
      "<class 'list'>\n"
     ]
    }
   ],
   "source": [
    "print(type(airports['data']))"
   ]
  },
  {
   "cell_type": "code",
   "execution_count": 12,
   "id": "0d1b7819-3e7e-4c4c-81ac-3ac55fa15e31",
   "metadata": {},
   "outputs": [
    {
     "name": "stdout",
     "output_type": "stream",
     "text": [
      "[{'lookbackServlet': 'Airport', 'autobroadened': 'false', 'title': 'Destinations', 'type': 'AIRPORT', 'document_id': None, 'url': '/Flights?geo=10143221', 'scope': 'global', 'name': 'Sao Paulo, Brazil - Guarulhos International Airport (GRU)', 'data_type': 'FLIGHTS_TO', 'details': {'placetype': 10038, 'parent_name': 'Guarulhos Intl Airport', 'grandparent_name': 'Sao Paulo', 'grandparent_id': 303631, 'parent_id': 303631, 'grandparent_place_type': 10004, 'highlighted_name': 'Sao Paulo, Brazil - Guarulhos International Airport (GRU)', 'name': 'Sao Paulo, Brazil - Guarulhos International Airport (GRU)', 'parent_place_type': 10038, 'parent_ids': [10143221, 303631, 303598, 294280, 13, 1], 'geo_name': 'Sao Paulo'}, 'airportCode': 'GRU', 'shortName': 'Sao Paulo (GRU)', 'value': 10143221, 'coords': '-23.433332,-46.483334', 'isChild': True}, {'lookbackServlet': 'Airport', 'autobroadened': 'false', 'title': 'Destinations', 'type': 'AIRPORT', 'document_id': None, 'url': '/Flights?geo=10143222', 'scope': 'global', 'name': 'Sao Paulo, Brazil - Viracopos-Campinas (VCP)', 'data_type': 'FLIGHTS_TO', 'details': {'placetype': 10038, 'parent_name': 'Viracopos-Campinas Intl Airport', 'grandparent_name': 'Sao Paulo', 'grandparent_id': 303631, 'parent_id': 303631, 'grandparent_place_type': 10004, 'highlighted_name': 'Sao Paulo, Brazil - Viracopos-Campinas (VCP)', 'name': 'Sao Paulo, Brazil - Viracopos-Campinas (VCP)', 'parent_place_type': 10038, 'parent_ids': [10143222, 303631, 303598, 294280, 13, 1], 'geo_name': 'Sao Paulo'}, 'airportCode': 'VCP', 'shortName': 'Sao Paulo (VCP)', 'value': 10143222, 'coords': '-23.0,-47.133335', 'isChild': True}, {'lookbackServlet': 'Airport', 'autobroadened': 'false', 'title': 'Destinations', 'type': 'AIRPORT', 'document_id': None, 'url': '/Flights?geo=10143220', 'lastChild': True, 'scope': 'global', 'name': 'Sao Paulo, Brazil - Congonhas (CGH)', 'data_type': 'FLIGHTS_TO', 'details': {'placetype': 10038, 'parent_name': 'Congonhas Airport', 'grandparent_name': 'Sao Paulo', 'grandparent_id': 303631, 'parent_id': 303631, 'grandparent_place_type': 10004, 'highlighted_name': 'Sao Paulo, Brazil - Congonhas (CGH)', 'name': 'Sao Paulo, Brazil - Congonhas (CGH)', 'parent_place_type': 10038, 'parent_ids': [10143220, 303631, 303598, 294280, 13, 1], 'geo_name': 'Sao Paulo'}, 'airportCode': 'CGH', 'shortName': 'Sao Paulo (CGH)', 'value': 10143220, 'coords': '-23.625,-46.66', 'isChild': True}]\n"
     ]
    }
   ],
   "source": [
    "print(airports['data'][0]['children'])"
   ]
  },
  {
   "cell_type": "code",
   "execution_count": 7,
   "id": "0f117820-2f6c-40ac-90cd-c8e130124b35",
   "metadata": {},
   "outputs": [],
   "source": [
    "# import json\n",
    "# import os\n",
    "\n",
    "# # Your JSON data\n",
    "# data = airports['data']\n",
    "\n",
    "# # Define local file path\n",
    "# local_file_path = '/home/jovyan/work/data/airports.json'\n",
    "\n",
    "# # Write JSON data to a local file\n",
    "# with open(local_file_path, 'w') as file:\n",
    "#     json.dump(data, file, indent=4)  # Use indent for pretty formatting\n"
   ]
  },
  {
   "cell_type": "markdown",
   "id": "e050b941-e752-4201-ba65-b35d31b60465",
   "metadata": {},
   "source": [
    "### Stop SPARK"
   ]
  },
  {
   "cell_type": "code",
   "execution_count": null,
   "id": "8c45673c-e355-4cbf-ba53-c8520dab61f5",
   "metadata": {},
   "outputs": [],
   "source": [
    "# spark.stop()"
   ]
  }
 ],
 "metadata": {
  "kernelspec": {
   "display_name": "Python 3 (ipykernel)",
   "language": "python",
   "name": "python3"
  },
  "language_info": {
   "codemirror_mode": {
    "name": "ipython",
    "version": 3
   },
   "file_extension": ".py",
   "mimetype": "text/x-python",
   "name": "python",
   "nbconvert_exporter": "python",
   "pygments_lexer": "ipython3",
   "version": "3.11.6"
  }
 },
 "nbformat": 4,
 "nbformat_minor": 5
}
