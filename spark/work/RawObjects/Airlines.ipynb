{
 "cells": [
  {
   "cell_type": "markdown",
   "id": "2e239dfe-7e87-4529-aa1c-bf6e25b7dcd5",
   "metadata": {},
   "source": [
    "### Import libraries"
   ]
  },
  {
   "cell_type": "code",
   "execution_count": 1,
   "id": "c0217ef8-b465-4b9d-bae0-30d817c22361",
   "metadata": {},
   "outputs": [],
   "source": [
    "from pyspark.sql import functions as F\n",
    "import sys, os\n",
    "path = os.path.dirname(os.getcwd()) + '/BaseUtils/'\n",
    "sys.path.append(os.path.abspath(path))\n",
    "\n",
    "from hdfs_io import *\n",
    "\n",
    "hdfs_obj = HDFS_IO()"
   ]
  },
  {
   "cell_type": "code",
   "execution_count": 2,
   "id": "ead9609f-183e-4cfe-a5c7-8618797cc448",
   "metadata": {},
   "outputs": [],
   "source": [
    "# Instanciate FLightRadarAPI\n",
    "\n",
    "from FlightRadar24 import FlightRadar24API\n",
    "fr_api = FlightRadar24API()"
   ]
  },
  {
   "cell_type": "markdown",
   "id": "0e4c2bc3-4560-49ce-b85d-32059fe28ee7",
   "metadata": {},
   "source": [
    "### Get Airlines"
   ]
  },
  {
   "cell_type": "code",
   "execution_count": 3,
   "id": "52049338-5038-46fa-bb5b-084b810bb107",
   "metadata": {},
   "outputs": [],
   "source": [
    "airlines = fr_api.get_airlines()"
   ]
  },
  {
   "cell_type": "code",
   "execution_count": 4,
   "id": "7ca378a7-8b7e-4907-a24a-701b4ccd6d99",
   "metadata": {},
   "outputs": [
    {
     "name": "stdout",
     "output_type": "stream",
     "text": [
      "{'Name': '21 Air', 'Code': '2I', 'ICAO': 'CSB'}\n"
     ]
    }
   ],
   "source": [
    "print(airlines[0])"
   ]
  },
  {
   "cell_type": "code",
   "execution_count": 5,
   "id": "f0559a71-8889-470e-afb4-e1fa014ca232",
   "metadata": {},
   "outputs": [
    {
     "name": "stdout",
     "output_type": "stream",
     "text": [
      "['__class__', '__class_getitem__', '__contains__', '__delattr__', '__delitem__', '__dir__', '__doc__', '__eq__', '__format__', '__ge__', '__getattribute__', '__getitem__', '__getstate__', '__gt__', '__hash__', '__init__', '__init_subclass__', '__ior__', '__iter__', '__le__', '__len__', '__lt__', '__ne__', '__new__', '__or__', '__reduce__', '__reduce_ex__', '__repr__', '__reversed__', '__ror__', '__setattr__', '__setitem__', '__sizeof__', '__str__', '__subclasshook__', 'clear', 'copy', 'fromkeys', 'get', 'items', 'keys', 'pop', 'popitem', 'setdefault', 'update', 'values']\n"
     ]
    }
   ],
   "source": [
    "print(dir(airlines[0]))"
   ]
  },
  {
   "cell_type": "code",
   "execution_count": 6,
   "id": "75f8361d-e7b7-4956-bdc6-7c3b53432bc0",
   "metadata": {},
   "outputs": [],
   "source": [
    "airlines_tuples = [{\n",
    "    'name': obj['Name'],\n",
    "    'code': obj['Code'],\n",
    "    'icao': obj['ICAO']\n",
    "                   } for obj in airlines]"
   ]
  },
  {
   "cell_type": "markdown",
   "id": "90130599-d885-4122-899f-29ce67ecf8a3",
   "metadata": {},
   "source": [
    "### Start Spark"
   ]
  },
  {
   "cell_type": "code",
   "execution_count": 7,
   "id": "d91bf226-713a-4d34-8aeb-cbcbe5c3be69",
   "metadata": {},
   "outputs": [
    {
     "name": "stdout",
     "output_type": "stream",
     "text": [
      "Spark version: 3.5.0\n"
     ]
    }
   ],
   "source": [
    "from pyspark.sql import SparkSession\n",
    "from pyspark.sql import types as T\n",
    "\n",
    "spark = SparkSession.builder \\\n",
    "    .appName(\"LocalSpark\") \\\n",
    "    .master(\"spark://spark-master:7077\") \\\n",
    "    .config(\"spark.rpc.message.maxSize\", \"1024\") \\\n",
    "    .getOrCreate()\n",
    "\n",
    "print(\"Spark version:\", spark.version)"
   ]
  },
  {
   "cell_type": "markdown",
   "id": "a59c8c05-1261-4c9b-ad00-379de1c188bd",
   "metadata": {},
   "source": [
    "#### Create airlines dataframe"
   ]
  },
  {
   "cell_type": "code",
   "execution_count": 8,
   "id": "1063fecc-32cf-411a-a481-ad8aa3b88b69",
   "metadata": {},
   "outputs": [],
   "source": [
    "# Define the schema explicitly\n",
    "airlines_schema = T.StructType([\n",
    "    T.StructField(\"name\", T.StringType(), True),\n",
    "    T.StructField(\"code\", T.StringType(), True),\n",
    "    T.StructField(\"icao\", T.StringType(), True)\n",
    "])"
   ]
  },
  {
   "cell_type": "code",
   "execution_count": 9,
   "id": "7257b468-c834-4984-8f7b-08344819c0f2",
   "metadata": {},
   "outputs": [],
   "source": [
    "airlines_df = spark.createDataFrame(airlines_tuples, airlines_schema)"
   ]
  },
  {
   "cell_type": "code",
   "execution_count": 10,
   "id": "f01dfaad-ff3a-40af-9d45-917103a78308",
   "metadata": {},
   "outputs": [
    {
     "name": "stdout",
     "output_type": "stream",
     "text": [
      "+------------------+----+----+\n",
      "|              name|code|icao|\n",
      "+------------------+----+----+\n",
      "|            21 Air|  2I| CSB|\n",
      "|      247 Aviation|    | EMC|\n",
      "|   2Excel Aviation|    | BRO|\n",
      "|         4 Airways|    | DAK|\n",
      "|       40-Mile Air|  Q5| MLA|\n",
      "|  748 Air Services|  FE| IHO|\n",
      "|             9 Air|  AQ| JYH|\n",
      "|        Abakan Air|  S5| NKP|\n",
      "|          ABS Jets|    | ABP|\n",
      "|Abu Dhabi Aviation|    | BAR|\n",
      "|           ABX Air|  GB| ABX|\n",
      "|     Acass Ireland|    | SON|\n",
      "|      Advanced Air|  AN| WSN|\n",
      "|   Aegean Airlines|  A3| AEE|\n",
      "|        Aer Lingus|  EI| EIN|\n",
      "|     Aer Lingus UK|  EG| EUK|\n",
      "|         AerCaribe|  JK| ACL|\n",
      "|              Aero|  5E| BLK|\n",
      "|              Aero|  N2| NIG|\n",
      "|        Aero Asahi|    | AKF|\n",
      "+------------------+----+----+\n",
      "only showing top 20 rows\n",
      "\n"
     ]
    }
   ],
   "source": [
    "airlines_df.show()"
   ]
  },
  {
   "cell_type": "markdown",
   "id": "8a75717e-2ea1-4d07-ab54-53c3d89f5b3e",
   "metadata": {},
   "source": [
    "#### Store to HDFS"
   ]
  },
  {
   "cell_type": "code",
   "execution_count": 11,
   "id": "60ba285e-84b0-4357-a664-19da33b59008",
   "metadata": {},
   "outputs": [
    {
     "name": "stdout",
     "output_type": "stream",
     "text": [
      "hdfs://namenode:9000/user/jovyan/FlightRadarApi/airlines\n"
     ]
    }
   ],
   "source": [
    "destination_path = hdfs_obj.base_url + hdfs_obj.user_path + 'FlightRadarApi/airlines'\n",
    "print(destination_path)"
   ]
  },
  {
   "cell_type": "code",
   "execution_count": 12,
   "id": "bcb4cec7-db05-4d3a-9545-f2366613e295",
   "metadata": {},
   "outputs": [
    {
     "data": {
      "text/plain": [
       "2201"
      ]
     },
     "execution_count": 12,
     "metadata": {},
     "output_type": "execute_result"
    }
   ],
   "source": [
    "airlines_df.count()"
   ]
  },
  {
   "cell_type": "code",
   "execution_count": null,
   "id": "95649370-8052-47a2-8100-f500eb921b71",
   "metadata": {},
   "outputs": [],
   "source": [
    "airlines_df.write.parquet(destination_path, mode='overwrite')"
   ]
  },
  {
   "cell_type": "code",
   "execution_count": null,
   "id": "1efbf149-7c67-4b9f-bde0-c4cae2b6d1e6",
   "metadata": {},
   "outputs": [],
   "source": [
    "spark.stop()"
   ]
  },
  {
   "cell_type": "code",
   "execution_count": null,
   "id": "6cf713b6-926c-4eed-8021-a927895f3c4e",
   "metadata": {},
   "outputs": [],
   "source": []
  }
 ],
 "metadata": {
  "kernelspec": {
   "display_name": "Python 3 (ipykernel)",
   "language": "python",
   "name": "python3"
  },
  "language_info": {
   "codemirror_mode": {
    "name": "ipython",
    "version": 3
   },
   "file_extension": ".py",
   "mimetype": "text/x-python",
   "name": "python",
   "nbconvert_exporter": "python",
   "pygments_lexer": "ipython3",
   "version": "3.11.6"
  }
 },
 "nbformat": 4,
 "nbformat_minor": 5
}
