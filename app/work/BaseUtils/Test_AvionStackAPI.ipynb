{
 "cells": [
  {
   "cell_type": "markdown",
   "id": "434adab8-2202-4418-b9e1-cea67839b5e7",
   "metadata": {},
   "source": [
    "## Testing SPARK"
   ]
  },
  {
   "cell_type": "code",
   "execution_count": null,
   "id": "a76d62db-6d8a-48e0-99b2-9c28a83b87e6",
   "metadata": {},
   "outputs": [],
   "source": [
    "from pyspark.sql import SparkSession\n",
    "\n",
    "spark = SparkSession.builder \\\n",
    "    .appName(\"LocalSpark\") \\\n",
    "    .master(\"spark://spark-master:7077\") \\\n",
    "    .getOrCreate()\n",
    "\n",
    "print(\"Spark version:\", spark.version)\n"
   ]
  },
  {
   "cell_type": "markdown",
   "id": "905370de-9c69-4318-942b-56048057d35d",
   "metadata": {},
   "source": [
    "### Import Libraries"
   ]
  },
  {
   "cell_type": "code",
   "execution_count": null,
   "id": "1b745a67-23a0-466a-b16f-722b4c4966f2",
   "metadata": {},
   "outputs": [],
   "source": [
    "path = os.path.dirname(os.getcwd()) + '/BaseUtils/'\n",
    "print(path)\n",
    "sys.path.append(os.path.abspath(path))"
   ]
  },
  {
   "cell_type": "code",
   "execution_count": null,
   "id": "0f3c6d21-590e-4b2f-846b-78af77e1dda9",
   "metadata": {},
   "outputs": [],
   "source": [
    "from pyspark.sql import functions as F\n",
    "import sys, os\n",
    "path = os.path.dirname(os.getcwd()) + '/BaseUtils/'\n",
    "sys.path.append(os.path.abspath(path))\n",
    "\n",
    "from AviationStackAPI import *"
   ]
  },
  {
   "cell_type": "code",
   "execution_count": null,
   "id": "59ec1b11-0228-4b4f-aacc-e60684346165",
   "metadata": {},
   "outputs": [],
   "source": [
    "aviation_api_key = 'b053515612e2f3e2bff16fc70eb5127f'\n",
    "\n",
    "avionAPI = AviationstackAPI(aviation_api_key)"
   ]
  },
  {
   "cell_type": "code",
   "execution_count": null,
   "id": "03167470-3503-49e8-ab57-e3083345f630",
   "metadata": {},
   "outputs": [],
   "source": [
    "airports_df = spark.createDataFrame(avionAPI.get_all_airports())"
   ]
  },
  {
   "cell_type": "code",
   "execution_count": null,
   "id": "d6d317dd-148e-47ea-8f32-139ad6a3ef38",
   "metadata": {},
   "outputs": [],
   "source": [
    "airports_df.show()"
   ]
  },
  {
   "cell_type": "code",
   "execution_count": null,
   "id": "cf1ceb96-cb88-45fb-9f5e-5e85637bddfa",
   "metadata": {},
   "outputs": [],
   "source": [
    "airports_df.write.csv('/home/jovyan/work/processed_data.csv', header=True)"
   ]
  },
  {
   "cell_type": "code",
   "execution_count": null,
   "id": "92a86445-7bd5-48ad-b623-3c1df1761898",
   "metadata": {},
   "outputs": [],
   "source": [
    "airports_df.write.mode(\"overwrite\").parquet(\"/home/jovyan/work/data/Airports\")"
   ]
  },
  {
   "cell_type": "code",
   "execution_count": null,
   "id": "f5e7a884-20cf-4048-b91e-0995955c6de6",
   "metadata": {},
   "outputs": [],
   "source": [
    "spark.stop()"
   ]
  }
 ],
 "metadata": {
  "kernelspec": {
   "display_name": "Python 3 (ipykernel)",
   "language": "python",
   "name": "python3"
  },
  "language_info": {
   "codemirror_mode": {
    "name": "ipython",
    "version": 3
   },
   "file_extension": ".py",
   "mimetype": "text/x-python",
   "name": "python",
   "nbconvert_exporter": "python",
   "pygments_lexer": "ipython3",
   "version": "3.11.6"
  }
 },
 "nbformat": 4,
 "nbformat_minor": 5
}
