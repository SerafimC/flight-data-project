{
 "cells": [
  {
   "cell_type": "markdown",
   "id": "2e239dfe-7e87-4529-aa1c-bf6e25b7dcd5",
   "metadata": {},
   "source": [
    "### Import libraries"
   ]
  },
  {
   "cell_type": "code",
   "execution_count": 1,
   "id": "c0217ef8-b465-4b9d-bae0-30d817c22361",
   "metadata": {},
   "outputs": [],
   "source": [
    "from pyspark.sql import functions as F\n",
    "import sys, os\n",
    "path = os.path.dirname(os.getcwd()) + '/BaseUtils/'\n",
    "sys.path.append(os.path.abspath(path))\n",
    "\n",
    "from hdfs_io import *\n",
    "\n",
    "hdfs_obj = HDFS_IO()"
   ]
  },
  {
   "cell_type": "code",
   "execution_count": 2,
   "id": "ead9609f-183e-4cfe-a5c7-8618797cc448",
   "metadata": {},
   "outputs": [],
   "source": [
    "# Instanciate FLightRadarAPI\n",
    "\n",
    "from FlightRadar24 import FlightRadar24API\n",
    "fr_api = FlightRadar24API()"
   ]
  },
  {
   "cell_type": "markdown",
   "id": "0e4c2bc3-4560-49ce-b85d-32059fe28ee7",
   "metadata": {},
   "source": [
    "### Get Zones"
   ]
  },
  {
   "cell_type": "code",
   "execution_count": 3,
   "id": "52049338-5038-46fa-bb5b-084b810bb107",
   "metadata": {},
   "outputs": [],
   "source": [
    "zones = fr_api.get_zones()"
   ]
  },
  {
   "cell_type": "code",
   "execution_count": 4,
   "id": "7ca378a7-8b7e-4907-a24a-701b4ccd6d99",
   "metadata": {},
   "outputs": [
    {
     "name": "stdout",
     "output_type": "stream",
     "text": [
      "<class 'dict'>\n",
      "{'europe': {'tl_y': 72.57, 'tl_x': -16.96, 'br_y': 33.57, 'br_x': 53.05, 'subzones': {'poland': {'tl_y': 56.86, 'tl_x': 11.06, 'br_y': 48.22, 'br_x': 28.26}, 'germany': {'tl_y': 57.92, 'tl_x': 1.81, 'br_y': 45.81, 'br_x': 16.83}, 'uk': {'tl_y': 62.61, 'tl_x': -13.07, 'br_y': 49.71, 'br_x': 3.46, 'subzones': {'london': {'tl_y': 53.06, 'tl_x': -2.87, 'br_y': 50.07, 'br_x': 3.26}, 'ireland': {'tl_y': 56.22, 'tl_x': -11.71, 'br_y': 50.91, 'br_x': -4.4}}}, 'spain': {'tl_y': 44.36, 'tl_x': -11.06, 'br_y': 35.76, 'br_x': 4.04}, 'france': {'tl_y': 51.07, 'tl_x': -5.18, 'br_y': 42.17, 'br_x': 8.9}, 'ceur': {'tl_y': 51.39, 'tl_x': 11.25, 'br_y': 39.72, 'br_x': 32.55}, 'scandinavia': {'tl_y': 72.12, 'tl_x': -0.73, 'br_y': 53.82, 'br_x': 40.67}, 'italy': {'tl_y': 47.67, 'tl_x': 5.26, 'br_y': 36.27, 'br_x': 20.64}}}, 'northamerica': {'tl_y': 75, 'tl_x': -180, 'br_y': 3, 'br_x': -52, 'subzones': {'na_n': {'tl_y': 72.82, 'tl_x': -177.97, 'br_y': 41.92, 'br_x': -52.48}, 'na_c': {'tl_y': 54.66, 'tl_x': -134.68, 'br_y': 22.16, 'br_x': -56.91, 'subzones': {'na_cny': {'tl_y': 45.06, 'tl_x': -83.69, 'br_y': 35.96, 'br_x': -64.29}, 'na_cla': {'tl_y': 37.91, 'tl_x': -126.12, 'br_y': 30.21, 'br_x': -110.02}, 'na_cat': {'tl_y': 35.86, 'tl_x': -92.61, 'br_y': 22.56, 'br_x': -71.19}, 'na_cse': {'tl_y': 49.12, 'tl_x': -126.15, 'br_y': 42.97, 'br_x': -111.92}, 'na_nw': {'tl_y': 54.12, 'tl_x': -134.13, 'br_y': 38.32, 'br_x': -96.75}, 'na_ne': {'tl_y': 53.72, 'tl_x': -98.76, 'br_y': 38.22, 'br_x': -57.36}, 'na_sw': {'tl_y': 38.92, 'tl_x': -133.98, 'br_y': 22.62, 'br_x': -96.75}, 'na_se': {'tl_y': 38.52, 'tl_x': -98.62, 'br_y': 22.52, 'br_x': -57.36}, 'na_cc': {'tl_y': 45.92, 'tl_x': -116.88, 'br_y': 27.62, 'br_x': -75.91}}}, 'na_s': {'tl_y': 41.92, 'tl_x': -177.83, 'br_y': 3.82, 'br_x': -52.48}}}, 'southamerica': {'tl_y': 16, 'tl_x': -96, 'br_y': -57, 'br_x': -31}, 'oceania': {'tl_y': 19.62, 'tl_x': 88.4, 'br_y': -55.08, 'br_x': 180}, 'asia': {'tl_y': 79.98, 'tl_x': 40.91, 'br_y': 12.48, 'br_x': 179.77, 'subzones': {'japan': {'tl_y': 60.38, 'tl_x': 113.5, 'br_y': 22.58, 'br_x': 176.47}}}, 'africa': {'tl_y': 39, 'tl_x': -29, 'br_y': -39, 'br_x': 55}, 'atlantic': {'tl_y': 52.62, 'tl_x': -50.9, 'br_y': 15.62, 'br_x': -4.75}, 'maldives': {'tl_y': 10.72, 'tl_x': 63.1, 'br_y': -6.08, 'br_x': 86.53}, 'northatlantic': {'tl_y': 82.62, 'tl_x': -84.53, 'br_y': 59.02, 'br_x': 4.45}}\n"
     ]
    }
   ],
   "source": [
    "print(type(zones))\n",
    "print(zones)"
   ]
  },
  {
   "cell_type": "code",
   "execution_count": 5,
   "id": "f2142741-036f-44e3-a9a3-992612aca1eb",
   "metadata": {},
   "outputs": [
    {
     "name": "stdout",
     "output_type": "stream",
     "text": [
      "[{'name': 'europe'}, {'name': 'northamerica'}, {'name': 'southamerica'}, {'name': 'oceania'}, {'name': 'asia'}, {'name': 'africa'}, {'name': 'atlantic'}, {'name': 'maldives'}, {'name': 'northatlantic'}]\n"
     ]
    }
   ],
   "source": [
    "zones_tuples = [{'name': zone} for zone in zones]\n",
    "print(zones_tuples)"
   ]
  },
  {
   "cell_type": "markdown",
   "id": "90130599-d885-4122-899f-29ce67ecf8a3",
   "metadata": {},
   "source": [
    "### Start Spark"
   ]
  },
  {
   "cell_type": "code",
   "execution_count": 6,
   "id": "d91bf226-713a-4d34-8aeb-cbcbe5c3be69",
   "metadata": {},
   "outputs": [
    {
     "name": "stdout",
     "output_type": "stream",
     "text": [
      "Spark version: 3.5.0\n"
     ]
    }
   ],
   "source": [
    "from pyspark.sql import SparkSession\n",
    "from pyspark.sql import types as T\n",
    "\n",
    "spark = SparkSession.builder \\\n",
    "    .appName(\"LocalSpark\") \\\n",
    "    .master(\"spark://spark-master:7077\") \\\n",
    "    .config(\"spark.rpc.message.maxSize\", \"1024\") \\\n",
    "    .getOrCreate()\n",
    "\n",
    "print(\"Spark version:\", spark.version)"
   ]
  },
  {
   "cell_type": "markdown",
   "id": "a59c8c05-1261-4c9b-ad00-379de1c188bd",
   "metadata": {},
   "source": [
    "#### Create zones dataframe"
   ]
  },
  {
   "cell_type": "code",
   "execution_count": 7,
   "id": "efc056b7-1913-499a-a6c0-41a380bb0692",
   "metadata": {},
   "outputs": [],
   "source": [
    "# Define the schema explicitly\n",
    "zones_schema = T.StructType([\n",
    "    T.StructField(\"name\", T.StringType(), True)\n",
    "])"
   ]
  },
  {
   "cell_type": "code",
   "execution_count": 8,
   "id": "7257b468-c834-4984-8f7b-08344819c0f2",
   "metadata": {},
   "outputs": [],
   "source": [
    "zones_df = spark.createDataFrame(zones_tuples, zones_schema)"
   ]
  },
  {
   "cell_type": "markdown",
   "id": "8a75717e-2ea1-4d07-ab54-53c3d89f5b3e",
   "metadata": {},
   "source": [
    "#### Store to HDFS"
   ]
  },
  {
   "cell_type": "code",
   "execution_count": 9,
   "id": "60ba285e-84b0-4357-a664-19da33b59008",
   "metadata": {},
   "outputs": [
    {
     "name": "stdout",
     "output_type": "stream",
     "text": [
      "hdfs://namenode:9000/user/jovyan/FlightRadarApi/zones\n"
     ]
    }
   ],
   "source": [
    "destination_path = hdfs_obj.base_url + hdfs_obj.user_path + 'FlightRadarApi/zones'\n",
    "# destination_path = hdfs_obj.base_url + 'FlightRadarApi/zones'\n",
    "print(destination_path)"
   ]
  },
  {
   "cell_type": "code",
   "execution_count": 10,
   "id": "bcb4cec7-db05-4d3a-9545-f2366613e295",
   "metadata": {},
   "outputs": [
    {
     "data": {
      "text/plain": [
       "9"
      ]
     },
     "execution_count": 10,
     "metadata": {},
     "output_type": "execute_result"
    }
   ],
   "source": [
    "zones_df.count()"
   ]
  },
  {
   "cell_type": "code",
   "execution_count": 11,
   "id": "95649370-8052-47a2-8100-f500eb921b71",
   "metadata": {},
   "outputs": [],
   "source": [
    "zones_df.write.parquet(destination_path, mode='overwrite')"
   ]
  },
  {
   "cell_type": "code",
   "execution_count": 12,
   "id": "1efbf149-7c67-4b9f-bde0-c4cae2b6d1e6",
   "metadata": {},
   "outputs": [],
   "source": [
    "spark.stop()"
   ]
  }
 ],
 "metadata": {
  "kernelspec": {
   "display_name": "Python 3 (ipykernel)",
   "language": "python",
   "name": "python3"
  },
  "language_info": {
   "codemirror_mode": {
    "name": "ipython",
    "version": 3
   },
   "file_extension": ".py",
   "mimetype": "text/x-python",
   "name": "python",
   "nbconvert_exporter": "python",
   "pygments_lexer": "ipython3",
   "version": "3.11.6"
  }
 },
 "nbformat": 4,
 "nbformat_minor": 5
}
