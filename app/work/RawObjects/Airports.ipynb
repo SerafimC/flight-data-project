{
 "cells": [
  {
   "cell_type": "markdown",
   "id": "2e239dfe-7e87-4529-aa1c-bf6e25b7dcd5",
   "metadata": {},
   "source": [
    "### Import libraries"
   ]
  },
  {
   "cell_type": "code",
   "execution_count": 1,
   "id": "c0217ef8-b465-4b9d-bae0-30d817c22361",
   "metadata": {},
   "outputs": [],
   "source": [
    "from pyspark.sql import functions as F\n",
    "import sys, os\n",
    "path = os.path.dirname(os.getcwd()) + '/BaseUtils/'\n",
    "sys.path.append(os.path.abspath(path))\n",
    "\n",
    "from hdfs_io import *\n",
    "\n",
    "hdfs_obj = HDFS_IO()"
   ]
  },
  {
   "cell_type": "code",
   "execution_count": 2,
   "id": "ead9609f-183e-4cfe-a5c7-8618797cc448",
   "metadata": {},
   "outputs": [],
   "source": [
    "# Instanciate FLightRadarAPI\n",
    "\n",
    "from FlightRadar24 import FlightRadar24API\n",
    "fr_api = FlightRadar24API()"
   ]
  },
  {
   "cell_type": "markdown",
   "id": "0e4c2bc3-4560-49ce-b85d-32059fe28ee7",
   "metadata": {},
   "source": [
    "### Get Airports"
   ]
  },
  {
   "cell_type": "code",
   "execution_count": 3,
   "id": "52049338-5038-46fa-bb5b-084b810bb107",
   "metadata": {},
   "outputs": [],
   "source": [
    "airports = fr_api.get_airports()"
   ]
  },
  {
   "cell_type": "code",
   "execution_count": 4,
   "id": "f0559a71-8889-470e-afb4-e1fa014ca232",
   "metadata": {},
   "outputs": [
    {
     "name": "stdout",
     "output_type": "stream",
     "text": [
      "['_Airport__get_info', '_Airport__initialize_with_basic_info', '_Airport__initialize_with_info', '__abstractmethods__', '__class__', '__delattr__', '__dict__', '__dir__', '__doc__', '__eq__', '__format__', '__ge__', '__getattribute__', '__getstate__', '__gt__', '__hash__', '__init__', '__init_subclass__', '__le__', '__lt__', '__module__', '__ne__', '__new__', '__reduce__', '__reduce_ex__', '__repr__', '__setattr__', '__sizeof__', '__slots__', '__str__', '__subclasshook__', '__weakref__', '_abc_impl', '_default_text', 'altitude', 'country', 'get_distance_from', 'iata', 'icao', 'latitude', 'longitude', 'name', 'set_airport_details']\n"
     ]
    }
   ],
   "source": [
    "print(dir(airports[0]))"
   ]
  },
  {
   "cell_type": "code",
   "execution_count": 5,
   "id": "75f8361d-e7b7-4956-bdc6-7c3b53432bc0",
   "metadata": {},
   "outputs": [],
   "source": [
    "airports_tuples = [{\n",
    "    'iata': obj.iata,\n",
    "    'icao': obj.icao,\n",
    "    'name': obj.name,\n",
    "    'altitude': float(obj.altitude) if obj.altitude is not None else None,\n",
    "    'latitude': float(obj.latitude) if obj.latitude is not None else None,\n",
    "    'longitude': float(obj.longitude) if obj.longitude is not None else None,\n",
    "    'country': obj.country\n",
    "                   } for obj in airports]"
   ]
  },
  {
   "cell_type": "markdown",
   "id": "90130599-d885-4122-899f-29ce67ecf8a3",
   "metadata": {},
   "source": [
    "### Start Spark"
   ]
  },
  {
   "cell_type": "code",
   "execution_count": 6,
   "id": "d91bf226-713a-4d34-8aeb-cbcbe5c3be69",
   "metadata": {},
   "outputs": [
    {
     "name": "stdout",
     "output_type": "stream",
     "text": [
      "Spark version: 3.5.0\n"
     ]
    }
   ],
   "source": [
    "from pyspark.sql import SparkSession\n",
    "from pyspark.sql import types as T\n",
    "\n",
    "spark = SparkSession.builder \\\n",
    "    .appName(\"LocalSpark\") \\\n",
    "    .master(\"spark://spark-master:7077\") \\\n",
    "    .getOrCreate()\n",
    "\n",
    "print(\"Spark version:\", spark.version)"
   ]
  },
  {
   "cell_type": "markdown",
   "id": "a59c8c05-1261-4c9b-ad00-379de1c188bd",
   "metadata": {},
   "source": [
    "#### Create airports dataframe"
   ]
  },
  {
   "cell_type": "code",
   "execution_count": 7,
   "id": "1063fecc-32cf-411a-a481-ad8aa3b88b69",
   "metadata": {},
   "outputs": [],
   "source": [
    "# Define the schema explicitly\n",
    "airports_schema = T.StructType([\n",
    "    T.StructField(\"iata\", T.StringType(), True),\n",
    "    T.StructField(\"icao\", T.StringType(), True),\n",
    "    T.StructField(\"name\", T.StringType(), True),\n",
    "    T.StructField(\"altitude\", T.DoubleType(), True),   # Explicitly defining as DoubleType\n",
    "    T.StructField(\"latitude\", T.DoubleType(), True),   # Explicitly defining as DoubleType\n",
    "    T.StructField(\"longitude\", T.DoubleType(), True),  # Explicitly defining as DoubleType\n",
    "    T.StructField(\"country\", T.StringType(), True)\n",
    "])"
   ]
  },
  {
   "cell_type": "code",
   "execution_count": 8,
   "id": "7257b468-c834-4984-8f7b-08344819c0f2",
   "metadata": {},
   "outputs": [],
   "source": [
    "airports_df = spark.createDataFrame(airports_tuples, airports_schema)"
   ]
  },
  {
   "cell_type": "code",
   "execution_count": 9,
   "id": "f01dfaad-ff3a-40af-9d45-917103a78308",
   "metadata": {},
   "outputs": [
    {
     "name": "stdout",
     "output_type": "stream",
     "text": [
      "+----+----+--------------------+--------+---------+-----------+--------------------+\n",
      "|iata|icao|                name|altitude| latitude|  longitude|             country|\n",
      "+----+----+--------------------+--------+---------+-----------+--------------------+\n",
      "| LCG|LECO|    A Coruna Airport|   326.0|43.302059|   -8.37725|               Spain|\n",
      "| AAH|EDKA|Aachen Merzbruck ...|   626.0|50.821899|   6.184759|             Germany|\n",
      "| AAL|EKYT|     Aalborg Airport|     3.0|57.095112|   9.855172|             Denmark|\n",
      "| AAR|EKAH|      Aarhus Airport|    71.0|56.303295|  10.619129|             Denmark|\n",
      "| QEA|EKAC|  Aarhus Sea Airport|     1.0|56.151993|  10.247725|             Denmark|\n",
      "| JEG|BGAA|     Aasiaat Airport|    74.0| 68.72184| -52.784698|           Greenland|\n",
      "| ABD|OIAA|      Abadan Airport|    19.0|30.371111|  48.228329|                Iran|\n",
      "| ABA|UNAA|Abakan Internatio...|   831.0|53.740002|  91.385002|              Russia|\n",
      "| YXX|CYXX|Abbotsford Intern...|   195.0|49.025269|-122.360001|              Canada|\n",
      "| AEA|NGTB|     Abemama Airport|     8.0| 0.490833| 173.828598|            Kiribati|\n",
      "| ABZ|EGPD|Aberdeen Internat...|   215.0|57.201939|   -2.19777|      United Kingdom|\n",
      "| ABR|KABR|Aberdeen Regional...|  1302.0|45.439999| -98.419998|       United States|\n",
      "| AHB|OEAB|Abha Regional Air...|  6858.0| 18.24036|   42.65662|        Saudi Arabia|\n",
      "| ABJ|DIAP|Abidjan Port Boue...|    21.0| 5.261386|   -3.92629|         Ivory Coast|\n",
      "| ABI|KABI|Abilene Regional ...|  1790.0|32.411301| -99.681801|       United States|\n",
      "| VJI|KVJI|Abingdon Virginia...|  2088.0|36.686111| -82.033333|       United States|\n",
      "| AZI|OMAD|Abu Dhabi Al Bate...|    16.0|24.428329|   54.45808|United Arab Emirates|\n",
      "| DHF|OMAM|Abu Dhabi Al Dhaf...|    77.0|24.248199|  54.547699|United Arab Emirates|\n",
      "| AUH|OMAA|Abu Dhabi Zayed I...|    62.0|24.442856|  54.651474|United Arab Emirates|\n",
      "| AEU|OIBA|Abu Musa Island A...|    23.0|  25.8757|  55.033001|                Iran|\n",
      "+----+----+--------------------+--------+---------+-----------+--------------------+\n",
      "only showing top 20 rows\n",
      "\n"
     ]
    }
   ],
   "source": [
    "airports_df.show()"
   ]
  },
  {
   "cell_type": "markdown",
   "id": "8a75717e-2ea1-4d07-ab54-53c3d89f5b3e",
   "metadata": {},
   "source": [
    "#### Store to HDFS"
   ]
  },
  {
   "cell_type": "code",
   "execution_count": 10,
   "id": "60ba285e-84b0-4357-a664-19da33b59008",
   "metadata": {},
   "outputs": [],
   "source": [
    "# destination_path = hdfs_obj.base_url + hdfs_obj.user_path + 'FlightRadarApi/airports'\n",
    "# print(destination_path)\n",
    "\n",
    "destination_path = './data/airports'"
   ]
  },
  {
   "cell_type": "code",
   "execution_count": 11,
   "id": "3b0e3fb1-1d37-41d4-b9f0-5a12182fb365",
   "metadata": {},
   "outputs": [
    {
     "data": {
      "text/plain": [
       "5731"
      ]
     },
     "execution_count": 11,
     "metadata": {},
     "output_type": "execute_result"
    }
   ],
   "source": [
    "airports_df.count()"
   ]
  },
  {
   "cell_type": "code",
   "execution_count": 12,
   "id": "95649370-8052-47a2-8100-f500eb921b71",
   "metadata": {},
   "outputs": [],
   "source": [
    "airports_df.write.parquet(destination_path, mode='overwrite')"
   ]
  },
  {
   "cell_type": "code",
   "execution_count": 13,
   "id": "1efbf149-7c67-4b9f-bde0-c4cae2b6d1e6",
   "metadata": {},
   "outputs": [],
   "source": [
    "spark.stop()"
   ]
  },
  {
   "cell_type": "code",
   "execution_count": null,
   "id": "6cf713b6-926c-4eed-8021-a927895f3c4e",
   "metadata": {},
   "outputs": [],
   "source": []
  }
 ],
 "metadata": {
  "kernelspec": {
   "display_name": "Python 3 (ipykernel)",
   "language": "python",
   "name": "python3"
  },
  "language_info": {
   "codemirror_mode": {
    "name": "ipython",
    "version": 3
   },
   "file_extension": ".py",
   "mimetype": "text/x-python",
   "name": "python",
   "nbconvert_exporter": "python",
   "pygments_lexer": "ipython3",
   "version": "3.11.6"
  }
 },
 "nbformat": 4,
 "nbformat_minor": 5
}
