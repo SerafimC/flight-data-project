{
 "cells": [
  {
   "cell_type": "code",
   "execution_count": 1,
   "id": "f29e4894-b8d3-414c-a19e-e97b5e73a8f4",
   "metadata": {},
   "outputs": [],
   "source": [
    "from FlightRadar24 import FlightRadar24API\n",
    "fr_api = FlightRadar24API()"
   ]
  },
  {
   "cell_type": "code",
   "execution_count": 12,
   "id": "461e1de2-09a5-4f6c-b5cb-422a80c8f01a",
   "metadata": {},
   "outputs": [
    {
     "name": "stdout",
     "output_type": "stream",
     "text": [
      "dict_keys(['europe', 'northamerica', 'southamerica', 'oceania', 'asia', 'africa', 'atlantic', 'maldives', 'northatlantic'])\n"
     ]
    }
   ],
   "source": [
    "zone = fr_api.get_zones()\n",
    "# bounds = fr_api.get_bounds(zone)\n",
    "\n",
    "print(zone.keys())\n",
    "# print(bounds)"
   ]
  },
  {
   "cell_type": "code",
   "execution_count": 7,
   "id": "2721e504-318a-4065-96df-fd5beea0abab",
   "metadata": {},
   "outputs": [
    {
     "name": "stdout",
     "output_type": "stream",
     "text": [
      "[]\n"
     ]
    }
   ],
   "source": [
    "print(flights)"
   ]
  },
  {
   "cell_type": "code",
   "execution_count": null,
   "id": "0eca3ba7-14cc-46b9-98dd-4a23c5861c43",
   "metadata": {},
   "outputs": [],
   "source": []
  }
 ],
 "metadata": {
  "kernelspec": {
   "display_name": "Python 3 (ipykernel)",
   "language": "python",
   "name": "python3"
  },
  "language_info": {
   "codemirror_mode": {
    "name": "ipython",
    "version": 3
   },
   "file_extension": ".py",
   "mimetype": "text/x-python",
   "name": "python",
   "nbconvert_exporter": "python",
   "pygments_lexer": "ipython3",
   "version": "3.11.6"
  }
 },
 "nbformat": 4,
 "nbformat_minor": 5
}
